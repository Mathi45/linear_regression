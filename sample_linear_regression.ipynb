{
  "nbformat": 4,
  "nbformat_minor": 0,
  "metadata": {
    "colab": {
      "provenance": []
    },
    "kernelspec": {
      "name": "python3",
      "display_name": "Python 3"
    },
    "language_info": {
      "name": "python"
    }
  },
  "cells": [
    {
      "cell_type": "code",
      "execution_count": null,
      "metadata": {
        "id": "GFBt5rcKIbgi"
      },
      "outputs": [],
      "source": [
        "import numpy as np\n",
        "import matplotlib.pyplot as plt\n",
        "import pandas as pd\n",
        "import seaborn as sns\n",
        "%matplotlib inline"
      ]
    },
    {
      "cell_type": "code",
      "source": [
        "from google.colab import files\n",
        "\n",
        "uploaded = files.upload()"
      ],
      "metadata": {
        "colab": {
          "base_uri": "https://localhost:8080/",
          "height": 73
        },
        "id": "stZIbJ-gIi22",
        "outputId": "f5cf7c79-cd0d-433d-f1f5-10f82c95ee66"
      },
      "execution_count": null,
      "outputs": [
        {
          "output_type": "display_data",
          "data": {
            "text/plain": [
              "<IPython.core.display.HTML object>"
            ],
            "text/html": [
              "\n",
              "     <input type=\"file\" id=\"files-ea4cab78-b1d9-449e-86c1-48f68095582e\" name=\"files[]\" multiple disabled\n",
              "        style=\"border:none\" />\n",
              "     <output id=\"result-ea4cab78-b1d9-449e-86c1-48f68095582e\">\n",
              "      Upload widget is only available when the cell has been executed in the\n",
              "      current browser session. Please rerun this cell to enable.\n",
              "      </output>\n",
              "      <script>// Copyright 2017 Google LLC\n",
              "//\n",
              "// Licensed under the Apache License, Version 2.0 (the \"License\");\n",
              "// you may not use this file except in compliance with the License.\n",
              "// You may obtain a copy of the License at\n",
              "//\n",
              "//      http://www.apache.org/licenses/LICENSE-2.0\n",
              "//\n",
              "// Unless required by applicable law or agreed to in writing, software\n",
              "// distributed under the License is distributed on an \"AS IS\" BASIS,\n",
              "// WITHOUT WARRANTIES OR CONDITIONS OF ANY KIND, either express or implied.\n",
              "// See the License for the specific language governing permissions and\n",
              "// limitations under the License.\n",
              "\n",
              "/**\n",
              " * @fileoverview Helpers for google.colab Python module.\n",
              " */\n",
              "(function(scope) {\n",
              "function span(text, styleAttributes = {}) {\n",
              "  const element = document.createElement('span');\n",
              "  element.textContent = text;\n",
              "  for (const key of Object.keys(styleAttributes)) {\n",
              "    element.style[key] = styleAttributes[key];\n",
              "  }\n",
              "  return element;\n",
              "}\n",
              "\n",
              "// Max number of bytes which will be uploaded at a time.\n",
              "const MAX_PAYLOAD_SIZE = 100 * 1024;\n",
              "\n",
              "function _uploadFiles(inputId, outputId) {\n",
              "  const steps = uploadFilesStep(inputId, outputId);\n",
              "  const outputElement = document.getElementById(outputId);\n",
              "  // Cache steps on the outputElement to make it available for the next call\n",
              "  // to uploadFilesContinue from Python.\n",
              "  outputElement.steps = steps;\n",
              "\n",
              "  return _uploadFilesContinue(outputId);\n",
              "}\n",
              "\n",
              "// This is roughly an async generator (not supported in the browser yet),\n",
              "// where there are multiple asynchronous steps and the Python side is going\n",
              "// to poll for completion of each step.\n",
              "// This uses a Promise to block the python side on completion of each step,\n",
              "// then passes the result of the previous step as the input to the next step.\n",
              "function _uploadFilesContinue(outputId) {\n",
              "  const outputElement = document.getElementById(outputId);\n",
              "  const steps = outputElement.steps;\n",
              "\n",
              "  const next = steps.next(outputElement.lastPromiseValue);\n",
              "  return Promise.resolve(next.value.promise).then((value) => {\n",
              "    // Cache the last promise value to make it available to the next\n",
              "    // step of the generator.\n",
              "    outputElement.lastPromiseValue = value;\n",
              "    return next.value.response;\n",
              "  });\n",
              "}\n",
              "\n",
              "/**\n",
              " * Generator function which is called between each async step of the upload\n",
              " * process.\n",
              " * @param {string} inputId Element ID of the input file picker element.\n",
              " * @param {string} outputId Element ID of the output display.\n",
              " * @return {!Iterable<!Object>} Iterable of next steps.\n",
              " */\n",
              "function* uploadFilesStep(inputId, outputId) {\n",
              "  const inputElement = document.getElementById(inputId);\n",
              "  inputElement.disabled = false;\n",
              "\n",
              "  const outputElement = document.getElementById(outputId);\n",
              "  outputElement.innerHTML = '';\n",
              "\n",
              "  const pickedPromise = new Promise((resolve) => {\n",
              "    inputElement.addEventListener('change', (e) => {\n",
              "      resolve(e.target.files);\n",
              "    });\n",
              "  });\n",
              "\n",
              "  const cancel = document.createElement('button');\n",
              "  inputElement.parentElement.appendChild(cancel);\n",
              "  cancel.textContent = 'Cancel upload';\n",
              "  const cancelPromise = new Promise((resolve) => {\n",
              "    cancel.onclick = () => {\n",
              "      resolve(null);\n",
              "    };\n",
              "  });\n",
              "\n",
              "  // Wait for the user to pick the files.\n",
              "  const files = yield {\n",
              "    promise: Promise.race([pickedPromise, cancelPromise]),\n",
              "    response: {\n",
              "      action: 'starting',\n",
              "    }\n",
              "  };\n",
              "\n",
              "  cancel.remove();\n",
              "\n",
              "  // Disable the input element since further picks are not allowed.\n",
              "  inputElement.disabled = true;\n",
              "\n",
              "  if (!files) {\n",
              "    return {\n",
              "      response: {\n",
              "        action: 'complete',\n",
              "      }\n",
              "    };\n",
              "  }\n",
              "\n",
              "  for (const file of files) {\n",
              "    const li = document.createElement('li');\n",
              "    li.append(span(file.name, {fontWeight: 'bold'}));\n",
              "    li.append(span(\n",
              "        `(${file.type || 'n/a'}) - ${file.size} bytes, ` +\n",
              "        `last modified: ${\n",
              "            file.lastModifiedDate ? file.lastModifiedDate.toLocaleDateString() :\n",
              "                                    'n/a'} - `));\n",
              "    const percent = span('0% done');\n",
              "    li.appendChild(percent);\n",
              "\n",
              "    outputElement.appendChild(li);\n",
              "\n",
              "    const fileDataPromise = new Promise((resolve) => {\n",
              "      const reader = new FileReader();\n",
              "      reader.onload = (e) => {\n",
              "        resolve(e.target.result);\n",
              "      };\n",
              "      reader.readAsArrayBuffer(file);\n",
              "    });\n",
              "    // Wait for the data to be ready.\n",
              "    let fileData = yield {\n",
              "      promise: fileDataPromise,\n",
              "      response: {\n",
              "        action: 'continue',\n",
              "      }\n",
              "    };\n",
              "\n",
              "    // Use a chunked sending to avoid message size limits. See b/62115660.\n",
              "    let position = 0;\n",
              "    do {\n",
              "      const length = Math.min(fileData.byteLength - position, MAX_PAYLOAD_SIZE);\n",
              "      const chunk = new Uint8Array(fileData, position, length);\n",
              "      position += length;\n",
              "\n",
              "      const base64 = btoa(String.fromCharCode.apply(null, chunk));\n",
              "      yield {\n",
              "        response: {\n",
              "          action: 'append',\n",
              "          file: file.name,\n",
              "          data: base64,\n",
              "        },\n",
              "      };\n",
              "\n",
              "      let percentDone = fileData.byteLength === 0 ?\n",
              "          100 :\n",
              "          Math.round((position / fileData.byteLength) * 100);\n",
              "      percent.textContent = `${percentDone}% done`;\n",
              "\n",
              "    } while (position < fileData.byteLength);\n",
              "  }\n",
              "\n",
              "  // All done.\n",
              "  yield {\n",
              "    response: {\n",
              "      action: 'complete',\n",
              "    }\n",
              "  };\n",
              "}\n",
              "\n",
              "scope.google = scope.google || {};\n",
              "scope.google.colab = scope.google.colab || {};\n",
              "scope.google.colab._files = {\n",
              "  _uploadFiles,\n",
              "  _uploadFilesContinue,\n",
              "};\n",
              "})(self);\n",
              "</script> "
            ]
          },
          "metadata": {}
        },
        {
          "output_type": "stream",
          "name": "stdout",
          "text": [
            "Saving temperature_dataset.csv to temperature_dataset.csv\n"
          ]
        }
      ]
    },
    {
      "cell_type": "code",
      "source": [
        "temperature_dataset = pd.read_csv('temperature_dataset.csv')\n",
        "X= temperature_dataset.iloc[:,1].values\n",
        "Y= temperature_dataset.iloc[:,2].values"
      ],
      "metadata": {
        "id": "OABGWn7jIqE_"
      },
      "execution_count": null,
      "outputs": []
    },
    {
      "cell_type": "code",
      "source": [
        "temperature_dataset"
      ],
      "metadata": {
        "colab": {
          "base_uri": "https://localhost:8080/",
          "height": 423
        },
        "id": "dzezKsAGNB34",
        "outputId": "0690d576-4db7-48be-8252-e5955509f9d6"
      },
      "execution_count": null,
      "outputs": [
        {
          "output_type": "execute_result",
          "data": {
            "text/plain": [
              "             dt  LandAverageTemperature  LandAverageTemperatureUncertainty\n",
              "0    1752-10-01                   7.839                              2.754\n",
              "1    1752-11-01                   7.335                              2.747\n",
              "2    1752-12-01                   5.086                              2.982\n",
              "3    1753-01-01                   2.039                              3.478\n",
              "4    1753-02-01                   0.715                              6.341\n",
              "..          ...                     ...                                ...\n",
              "495  1794-01-01                   3.710                              3.869\n",
              "496  1794-02-01                   3.605                              5.138\n",
              "497  1794-03-01                   5.696                              1.805\n",
              "498  1794-04-01                   9.367                              1.219\n",
              "499  1794-05-01                  12.376                              1.063\n",
              "\n",
              "[500 rows x 3 columns]"
            ],
            "text/html": [
              "\n",
              "  <div id=\"df-11357a5f-7527-499a-85e6-0521c9f3fda7\" class=\"colab-df-container\">\n",
              "    <div>\n",
              "<style scoped>\n",
              "    .dataframe tbody tr th:only-of-type {\n",
              "        vertical-align: middle;\n",
              "    }\n",
              "\n",
              "    .dataframe tbody tr th {\n",
              "        vertical-align: top;\n",
              "    }\n",
              "\n",
              "    .dataframe thead th {\n",
              "        text-align: right;\n",
              "    }\n",
              "</style>\n",
              "<table border=\"1\" class=\"dataframe\">\n",
              "  <thead>\n",
              "    <tr style=\"text-align: right;\">\n",
              "      <th></th>\n",
              "      <th>dt</th>\n",
              "      <th>LandAverageTemperature</th>\n",
              "      <th>LandAverageTemperatureUncertainty</th>\n",
              "    </tr>\n",
              "  </thead>\n",
              "  <tbody>\n",
              "    <tr>\n",
              "      <th>0</th>\n",
              "      <td>1752-10-01</td>\n",
              "      <td>7.839</td>\n",
              "      <td>2.754</td>\n",
              "    </tr>\n",
              "    <tr>\n",
              "      <th>1</th>\n",
              "      <td>1752-11-01</td>\n",
              "      <td>7.335</td>\n",
              "      <td>2.747</td>\n",
              "    </tr>\n",
              "    <tr>\n",
              "      <th>2</th>\n",
              "      <td>1752-12-01</td>\n",
              "      <td>5.086</td>\n",
              "      <td>2.982</td>\n",
              "    </tr>\n",
              "    <tr>\n",
              "      <th>3</th>\n",
              "      <td>1753-01-01</td>\n",
              "      <td>2.039</td>\n",
              "      <td>3.478</td>\n",
              "    </tr>\n",
              "    <tr>\n",
              "      <th>4</th>\n",
              "      <td>1753-02-01</td>\n",
              "      <td>0.715</td>\n",
              "      <td>6.341</td>\n",
              "    </tr>\n",
              "    <tr>\n",
              "      <th>...</th>\n",
              "      <td>...</td>\n",
              "      <td>...</td>\n",
              "      <td>...</td>\n",
              "    </tr>\n",
              "    <tr>\n",
              "      <th>495</th>\n",
              "      <td>1794-01-01</td>\n",
              "      <td>3.710</td>\n",
              "      <td>3.869</td>\n",
              "    </tr>\n",
              "    <tr>\n",
              "      <th>496</th>\n",
              "      <td>1794-02-01</td>\n",
              "      <td>3.605</td>\n",
              "      <td>5.138</td>\n",
              "    </tr>\n",
              "    <tr>\n",
              "      <th>497</th>\n",
              "      <td>1794-03-01</td>\n",
              "      <td>5.696</td>\n",
              "      <td>1.805</td>\n",
              "    </tr>\n",
              "    <tr>\n",
              "      <th>498</th>\n",
              "      <td>1794-04-01</td>\n",
              "      <td>9.367</td>\n",
              "      <td>1.219</td>\n",
              "    </tr>\n",
              "    <tr>\n",
              "      <th>499</th>\n",
              "      <td>1794-05-01</td>\n",
              "      <td>12.376</td>\n",
              "      <td>1.063</td>\n",
              "    </tr>\n",
              "  </tbody>\n",
              "</table>\n",
              "<p>500 rows × 3 columns</p>\n",
              "</div>\n",
              "    <div class=\"colab-df-buttons\">\n",
              "\n",
              "  <div class=\"colab-df-container\">\n",
              "    <button class=\"colab-df-convert\" onclick=\"convertToInteractive('df-11357a5f-7527-499a-85e6-0521c9f3fda7')\"\n",
              "            title=\"Convert this dataframe to an interactive table.\"\n",
              "            style=\"display:none;\">\n",
              "\n",
              "  <svg xmlns=\"http://www.w3.org/2000/svg\" height=\"24px\" viewBox=\"0 -960 960 960\">\n",
              "    <path d=\"M120-120v-720h720v720H120Zm60-500h600v-160H180v160Zm220 220h160v-160H400v160Zm0 220h160v-160H400v160ZM180-400h160v-160H180v160Zm440 0h160v-160H620v160ZM180-180h160v-160H180v160Zm440 0h160v-160H620v160Z\"/>\n",
              "  </svg>\n",
              "    </button>\n",
              "\n",
              "  <style>\n",
              "    .colab-df-container {\n",
              "      display:flex;\n",
              "      gap: 12px;\n",
              "    }\n",
              "\n",
              "    .colab-df-convert {\n",
              "      background-color: #E8F0FE;\n",
              "      border: none;\n",
              "      border-radius: 50%;\n",
              "      cursor: pointer;\n",
              "      display: none;\n",
              "      fill: #1967D2;\n",
              "      height: 32px;\n",
              "      padding: 0 0 0 0;\n",
              "      width: 32px;\n",
              "    }\n",
              "\n",
              "    .colab-df-convert:hover {\n",
              "      background-color: #E2EBFA;\n",
              "      box-shadow: 0px 1px 2px rgba(60, 64, 67, 0.3), 0px 1px 3px 1px rgba(60, 64, 67, 0.15);\n",
              "      fill: #174EA6;\n",
              "    }\n",
              "\n",
              "    .colab-df-buttons div {\n",
              "      margin-bottom: 4px;\n",
              "    }\n",
              "\n",
              "    [theme=dark] .colab-df-convert {\n",
              "      background-color: #3B4455;\n",
              "      fill: #D2E3FC;\n",
              "    }\n",
              "\n",
              "    [theme=dark] .colab-df-convert:hover {\n",
              "      background-color: #434B5C;\n",
              "      box-shadow: 0px 1px 3px 1px rgba(0, 0, 0, 0.15);\n",
              "      filter: drop-shadow(0px 1px 2px rgba(0, 0, 0, 0.3));\n",
              "      fill: #FFFFFF;\n",
              "    }\n",
              "  </style>\n",
              "\n",
              "    <script>\n",
              "      const buttonEl =\n",
              "        document.querySelector('#df-11357a5f-7527-499a-85e6-0521c9f3fda7 button.colab-df-convert');\n",
              "      buttonEl.style.display =\n",
              "        google.colab.kernel.accessAllowed ? 'block' : 'none';\n",
              "\n",
              "      async function convertToInteractive(key) {\n",
              "        const element = document.querySelector('#df-11357a5f-7527-499a-85e6-0521c9f3fda7');\n",
              "        const dataTable =\n",
              "          await google.colab.kernel.invokeFunction('convertToInteractive',\n",
              "                                                    [key], {});\n",
              "        if (!dataTable) return;\n",
              "\n",
              "        const docLinkHtml = 'Like what you see? Visit the ' +\n",
              "          '<a target=\"_blank\" href=https://colab.research.google.com/notebooks/data_table.ipynb>data table notebook</a>'\n",
              "          + ' to learn more about interactive tables.';\n",
              "        element.innerHTML = '';\n",
              "        dataTable['output_type'] = 'display_data';\n",
              "        await google.colab.output.renderOutput(dataTable, element);\n",
              "        const docLink = document.createElement('div');\n",
              "        docLink.innerHTML = docLinkHtml;\n",
              "        element.appendChild(docLink);\n",
              "      }\n",
              "    </script>\n",
              "  </div>\n",
              "\n",
              "\n",
              "<div id=\"df-56cc336b-4bc3-429b-b7c0-e6041673f577\">\n",
              "  <button class=\"colab-df-quickchart\" onclick=\"quickchart('df-56cc336b-4bc3-429b-b7c0-e6041673f577')\"\n",
              "            title=\"Suggest charts\"\n",
              "            style=\"display:none;\">\n",
              "\n",
              "<svg xmlns=\"http://www.w3.org/2000/svg\" height=\"24px\"viewBox=\"0 0 24 24\"\n",
              "     width=\"24px\">\n",
              "    <g>\n",
              "        <path d=\"M19 3H5c-1.1 0-2 .9-2 2v14c0 1.1.9 2 2 2h14c1.1 0 2-.9 2-2V5c0-1.1-.9-2-2-2zM9 17H7v-7h2v7zm4 0h-2V7h2v10zm4 0h-2v-4h2v4z\"/>\n",
              "    </g>\n",
              "</svg>\n",
              "  </button>\n",
              "\n",
              "<style>\n",
              "  .colab-df-quickchart {\n",
              "      --bg-color: #E8F0FE;\n",
              "      --fill-color: #1967D2;\n",
              "      --hover-bg-color: #E2EBFA;\n",
              "      --hover-fill-color: #174EA6;\n",
              "      --disabled-fill-color: #AAA;\n",
              "      --disabled-bg-color: #DDD;\n",
              "  }\n",
              "\n",
              "  [theme=dark] .colab-df-quickchart {\n",
              "      --bg-color: #3B4455;\n",
              "      --fill-color: #D2E3FC;\n",
              "      --hover-bg-color: #434B5C;\n",
              "      --hover-fill-color: #FFFFFF;\n",
              "      --disabled-bg-color: #3B4455;\n",
              "      --disabled-fill-color: #666;\n",
              "  }\n",
              "\n",
              "  .colab-df-quickchart {\n",
              "    background-color: var(--bg-color);\n",
              "    border: none;\n",
              "    border-radius: 50%;\n",
              "    cursor: pointer;\n",
              "    display: none;\n",
              "    fill: var(--fill-color);\n",
              "    height: 32px;\n",
              "    padding: 0;\n",
              "    width: 32px;\n",
              "  }\n",
              "\n",
              "  .colab-df-quickchart:hover {\n",
              "    background-color: var(--hover-bg-color);\n",
              "    box-shadow: 0 1px 2px rgba(60, 64, 67, 0.3), 0 1px 3px 1px rgba(60, 64, 67, 0.15);\n",
              "    fill: var(--button-hover-fill-color);\n",
              "  }\n",
              "\n",
              "  .colab-df-quickchart-complete:disabled,\n",
              "  .colab-df-quickchart-complete:disabled:hover {\n",
              "    background-color: var(--disabled-bg-color);\n",
              "    fill: var(--disabled-fill-color);\n",
              "    box-shadow: none;\n",
              "  }\n",
              "\n",
              "  .colab-df-spinner {\n",
              "    border: 2px solid var(--fill-color);\n",
              "    border-color: transparent;\n",
              "    border-bottom-color: var(--fill-color);\n",
              "    animation:\n",
              "      spin 1s steps(1) infinite;\n",
              "  }\n",
              "\n",
              "  @keyframes spin {\n",
              "    0% {\n",
              "      border-color: transparent;\n",
              "      border-bottom-color: var(--fill-color);\n",
              "      border-left-color: var(--fill-color);\n",
              "    }\n",
              "    20% {\n",
              "      border-color: transparent;\n",
              "      border-left-color: var(--fill-color);\n",
              "      border-top-color: var(--fill-color);\n",
              "    }\n",
              "    30% {\n",
              "      border-color: transparent;\n",
              "      border-left-color: var(--fill-color);\n",
              "      border-top-color: var(--fill-color);\n",
              "      border-right-color: var(--fill-color);\n",
              "    }\n",
              "    40% {\n",
              "      border-color: transparent;\n",
              "      border-right-color: var(--fill-color);\n",
              "      border-top-color: var(--fill-color);\n",
              "    }\n",
              "    60% {\n",
              "      border-color: transparent;\n",
              "      border-right-color: var(--fill-color);\n",
              "    }\n",
              "    80% {\n",
              "      border-color: transparent;\n",
              "      border-right-color: var(--fill-color);\n",
              "      border-bottom-color: var(--fill-color);\n",
              "    }\n",
              "    90% {\n",
              "      border-color: transparent;\n",
              "      border-bottom-color: var(--fill-color);\n",
              "    }\n",
              "  }\n",
              "</style>\n",
              "\n",
              "  <script>\n",
              "    async function quickchart(key) {\n",
              "      const quickchartButtonEl =\n",
              "        document.querySelector('#' + key + ' button');\n",
              "      quickchartButtonEl.disabled = true;  // To prevent multiple clicks.\n",
              "      quickchartButtonEl.classList.add('colab-df-spinner');\n",
              "      try {\n",
              "        const charts = await google.colab.kernel.invokeFunction(\n",
              "            'suggestCharts', [key], {});\n",
              "      } catch (error) {\n",
              "        console.error('Error during call to suggestCharts:', error);\n",
              "      }\n",
              "      quickchartButtonEl.classList.remove('colab-df-spinner');\n",
              "      quickchartButtonEl.classList.add('colab-df-quickchart-complete');\n",
              "    }\n",
              "    (() => {\n",
              "      let quickchartButtonEl =\n",
              "        document.querySelector('#df-56cc336b-4bc3-429b-b7c0-e6041673f577 button');\n",
              "      quickchartButtonEl.style.display =\n",
              "        google.colab.kernel.accessAllowed ? 'block' : 'none';\n",
              "    })();\n",
              "  </script>\n",
              "</div>\n",
              "\n",
              "  <div id=\"id_658b8dc8-0f96-43d1-bf51-823c39bcbeb5\">\n",
              "    <style>\n",
              "      .colab-df-generate {\n",
              "        background-color: #E8F0FE;\n",
              "        border: none;\n",
              "        border-radius: 50%;\n",
              "        cursor: pointer;\n",
              "        display: none;\n",
              "        fill: #1967D2;\n",
              "        height: 32px;\n",
              "        padding: 0 0 0 0;\n",
              "        width: 32px;\n",
              "      }\n",
              "\n",
              "      .colab-df-generate:hover {\n",
              "        background-color: #E2EBFA;\n",
              "        box-shadow: 0px 1px 2px rgba(60, 64, 67, 0.3), 0px 1px 3px 1px rgba(60, 64, 67, 0.15);\n",
              "        fill: #174EA6;\n",
              "      }\n",
              "\n",
              "      [theme=dark] .colab-df-generate {\n",
              "        background-color: #3B4455;\n",
              "        fill: #D2E3FC;\n",
              "      }\n",
              "\n",
              "      [theme=dark] .colab-df-generate:hover {\n",
              "        background-color: #434B5C;\n",
              "        box-shadow: 0px 1px 3px 1px rgba(0, 0, 0, 0.15);\n",
              "        filter: drop-shadow(0px 1px 2px rgba(0, 0, 0, 0.3));\n",
              "        fill: #FFFFFF;\n",
              "      }\n",
              "    </style>\n",
              "    <button class=\"colab-df-generate\" onclick=\"generateWithVariable('temperature_dataset')\"\n",
              "            title=\"Generate code using this dataframe.\"\n",
              "            style=\"display:none;\">\n",
              "\n",
              "  <svg xmlns=\"http://www.w3.org/2000/svg\" height=\"24px\"viewBox=\"0 0 24 24\"\n",
              "       width=\"24px\">\n",
              "    <path d=\"M7,19H8.4L18.45,9,17,7.55,7,17.6ZM5,21V16.75L18.45,3.32a2,2,0,0,1,2.83,0l1.4,1.43a1.91,1.91,0,0,1,.58,1.4,1.91,1.91,0,0,1-.58,1.4L9.25,21ZM18.45,9,17,7.55Zm-12,3A5.31,5.31,0,0,0,4.9,8.1,5.31,5.31,0,0,0,1,6.5,5.31,5.31,0,0,0,4.9,4.9,5.31,5.31,0,0,0,6.5,1,5.31,5.31,0,0,0,8.1,4.9,5.31,5.31,0,0,0,12,6.5,5.46,5.46,0,0,0,6.5,12Z\"/>\n",
              "  </svg>\n",
              "    </button>\n",
              "    <script>\n",
              "      (() => {\n",
              "      const buttonEl =\n",
              "        document.querySelector('#id_658b8dc8-0f96-43d1-bf51-823c39bcbeb5 button.colab-df-generate');\n",
              "      buttonEl.style.display =\n",
              "        google.colab.kernel.accessAllowed ? 'block' : 'none';\n",
              "\n",
              "      buttonEl.onclick = () => {\n",
              "        google.colab.notebook.generateWithVariable('temperature_dataset');\n",
              "      }\n",
              "      })();\n",
              "    </script>\n",
              "  </div>\n",
              "\n",
              "    </div>\n",
              "  </div>\n"
            ],
            "application/vnd.google.colaboratory.intrinsic+json": {
              "type": "dataframe",
              "variable_name": "temperature_dataset",
              "summary": "{\n  \"name\": \"temperature_dataset\",\n  \"rows\": 500,\n  \"fields\": [\n    {\n      \"column\": \"dt\",\n      \"properties\": {\n        \"dtype\": \"object\",\n        \"num_unique_values\": 500,\n        \"samples\": [\n          \"1782-11-01\",\n          \"1758-11-01\",\n          \"1783-12-01\"\n        ],\n        \"semantic_type\": \"\",\n        \"description\": \"\"\n      }\n    },\n    {\n      \"column\": \"LandAverageTemperature\",\n      \"properties\": {\n        \"dtype\": \"number\",\n        \"std\": 4.748028071762054,\n        \"min\": -2.08,\n        \"max\": 19.021,\n        \"num_unique_values\": 492,\n        \"samples\": [\n          5.983,\n          13.039,\n          14.719\n        ],\n        \"semantic_type\": \"\",\n        \"description\": \"\"\n      }\n    },\n    {\n      \"column\": \"LandAverageTemperatureUncertainty\",\n      \"properties\": {\n        \"dtype\": \"number\",\n        \"std\": 1.1514764386967489,\n        \"min\": 0.807,\n        \"max\": 7.88,\n        \"num_unique_values\": 473,\n        \"samples\": [\n          4.98,\n          3.243,\n          1.936\n        ],\n        \"semantic_type\": \"\",\n        \"description\": \"\"\n      }\n    }\n  ]\n}"
            }
          },
          "metadata": {},
          "execution_count": 12
        }
      ]
    },
    {
      "cell_type": "code",
      "source": [
        "X\n"
      ],
      "metadata": {
        "colab": {
          "base_uri": "https://localhost:8080/"
        },
        "id": "PjROj0vyNGE_",
        "outputId": "521f323e-8ea1-493c-8efe-53a9a62015e6"
      },
      "execution_count": null,
      "outputs": [
        {
          "output_type": "execute_result",
          "data": {
            "text/plain": [
              "array([ 7.839,  7.335,  5.086,  2.039,  0.715,  5.424,  8.272, 12.186,\n",
              "       14.585, 15.092, 14.148, 13.322,  8.962,  5.353,  0.559,  1.574,\n",
              "       -1.249,  3.677, 11.61 , 11.936, 14.388, 14.681, 13.556, 11.129,\n",
              "        9.582,  6.161,  4.587,  1.067, -0.108,  3.607,  9.263, 12.881,\n",
              "       15.38 , 14.397, 13.515, 11.773,  9.97 ,  5.958,  2.564,  3.887,\n",
              "        5.666,  4.192, 10.042, 14.164, 14.547, 13.906, 13.437, 12.652,\n",
              "        7.312,  4.225,  2.165, -0.276,  3.704,  4.529,  8.246, 13.039,\n",
              "       17.115, 17.61 , 17.91 , 14.852,  6.482,  4.032,  1.021, -1.503,\n",
              "        0.806,  3.765,  7.21 ,  9.715, 13.139, 13.847, 11.818, 10.028,\n",
              "        1.894,  6.955,  3.249,  5.014,  4.082,  4.52 ,  5.983, 10.189,\n",
              "       13.512, 12.526, 14.587, 12.626,  8.267,  4.268,  0.247, -0.811,\n",
              "        2.436,  1.864,  7.436, 10.661, 11.945, 12.887, 13.917, 11.197,\n",
              "        6.701,  5.436,  2.553,  0.6  ,  2.735,  5.976,  7.321, 13.451,\n",
              "       16.821, 19.021, 15.331, 12.535,  7.227,  5.089, -0.837,  6.866,\n",
              "        4.801,  3.528,  9.019, 10.881, 13.499, 14.72 , 13.992, 10.326,\n",
              "        6.156,  6.367,  3.123,  1.369,  0.771,  1.576,  7.871, 10.701,\n",
              "       12.271, 16.391, 14.126, 11.378,  5.535,  4.588,  3.384,  1.741,\n",
              "        6.162,  5.521,  7.88 , 11.175, 11.723, 12.507, 12.282, 10.696,\n",
              "       10.011,  5.791,  5.315,  3.78 ,  3.832,  6.859,  9.013, 10.734,\n",
              "       10.833, 13.953, 13.12 , 10.993,  7.904,  5.603,  2.399, -0.793,\n",
              "        4.896,  6.062,  8.007, 11.228, 13.653, 13.555, 13.758, 12.25 ,\n",
              "        8.465,  7.454,  2.333, -0.643,  3.932,  7.022,  6.278, 10.193,\n",
              "       14.112, 13.361, 14.597, 11.675,  9.027,  7.915,  1.189, -2.08 ,\n",
              "        0.506,  2.446,  6.92 ,  9.066, 12.49 , 13.875, 12.352, 10.824,\n",
              "        7.729,  4.581,  2.667,  2.305,  2.164,  4.57 ,  8.967, 12.873,\n",
              "       15.142, 14.461, 13.494, 11.25 ,  5.297,  2.79 , -0.978,  1.974,\n",
              "        4.105,  1.612,  9.788,  9.996, 11.884, 11.621, 11.413, 10.724,\n",
              "        8.661,  5.791,  4.734,  5.101, -0.274,  2.814,  5.717,  9.626,\n",
              "       14.104, 13.828, 14.204, 11.363, 10.317,  4.916,  2.522,  1.253,\n",
              "        1.478,  3.057,  8.858,  9.531, 12.647, 14.581, 14.098, 10.303,\n",
              "        9.268,  7.736,  5.512, -0.437,  1.421,  4.422,  9.415, 12.764,\n",
              "       12.811, 14.484, 13.624, 12.488,  9.206,  3.369,  5.091, -0.325,\n",
              "        4.914,  5.643, 10.153, 16.025, 15.371, 16.521, 14.099, 10.936,\n",
              "        8.59 ,  3.029,  0.31 ,  4.261,  6.427,  7.759,  7.952, 11.399,\n",
              "       12.314, 14.719, 14.435, 11.096, 10.372,  8.179,  1.284, -0.806,\n",
              "        4.825,  4.652,  7.44 , 10.475, 14.564, 14.108, 14.837, 10.602,\n",
              "        8.06 ,  5.87 ,  5.021,  6.021,  4.919,  5.572,  6.362, 11.389,\n",
              "       12.323, 12.743, 12.815, 11.379,  6.956,  5.529,  3.067,  2.521,\n",
              "        6.094,  4.604, 10.984, 11.286, 11.731, 15.037, 12.869, 13.377,\n",
              "        8.049,  3.854,  2.101,  1.47 ,  5.14 ,  6.967,  9.965, 14.18 ,\n",
              "       12.547, 13.659, 13.799, 12.683,  9.35 ,  5.77 ,  2.269,  2.515,\n",
              "        4.08 ,  5.724, 13.732, 15.757, 14.747, 16.183, 12.947,  8.844,\n",
              "        9.376,  6.706,  2.584,  2.401,  2.267,  4.772,  6.923, 11.102,\n",
              "       11.678, 14.285, 14.141, 10.304,  8.547,  7.523,  3.288,  0.341,\n",
              "        0.639,  2.565,  8.618, 10.99 , 13.801, 13.925, 15.683, 12.398,\n",
              "        8.978,  4.956,  1.921, -1.431,  5.294,  4.799,  8.574, 11.819,\n",
              "       14.34 , 13.069, 13.971,  9.958,  7.357,  2.196,  2.224,  2.596,\n",
              "        0.989,  3.919,  8.142, 10.013, 12.803, 14.947, 15.861, 10.266,\n",
              "        6.836,  4.557,  3.415,  0.865,  1.045,  2.289,  6.379,  9.853,\n",
              "       13.744, 14.468, 14.466, 10.497,  7.351,  5.526,  1.873,  0.763,\n",
              "        2.657,  5.648,  9.318, 11.583, 13.035, 15.294, 14.455, 12.158,\n",
              "        7.712,  5.741,  0.734,  2.845,  2.563,  4.698,  7.772, 11.403,\n",
              "       14.369, 13.451, 13.555, 10.357,  7.772,  5.801,  1.796,  0.735,\n",
              "        3.581,  5.336,  8.714, 10.428, 13.808, 16.468, 13.885, 11.699,\n",
              "        9.349,  6.111,  1.252,  3.706,  1.675,  3.989,  7.694, 11.666,\n",
              "       13.507, 15.462, 13.84 , 12.018,  7.39 ,  5.964,  3.099,  2.444,\n",
              "        2.973,  4.582,  6.053, 10.357, 13.746, 13.812, 13.925, 11.233,\n",
              "        8.577,  5.331,  2.755,  1.493,  3.466,  4.79 ,  9.127,  9.859,\n",
              "       13.231, 13.612, 13.744, 11.677,  8.08 ,  6.206,  3.526,  0.348,\n",
              "        3.62 ,  4.429,  7.994, 11.321, 13.581, 14.212, 12.281, 12.491,\n",
              "        8.097,  5.306,  3.388,  0.521,  4.745,  5.042,  8.643, 11.059,\n",
              "       13.146, 14.336, 13.16 , 12.002,  8.393,  5.666,  2.037,  3.71 ,\n",
              "        3.605,  5.696,  9.367, 12.376])"
            ]
          },
          "metadata": {},
          "execution_count": 13
        }
      ]
    },
    {
      "cell_type": "code",
      "source": [
        "Y"
      ],
      "metadata": {
        "colab": {
          "base_uri": "https://localhost:8080/"
        },
        "id": "qYq_pmTzNJhd",
        "outputId": "11880f67-609c-4fee-d70b-64362f441a5e"
      },
      "execution_count": null,
      "outputs": [
        {
          "output_type": "execute_result",
          "data": {
            "text/plain": [
              "array([2.754, 2.747, 2.982, 3.478, 6.341, 2.929, 3.177, 3.111, 2.59 ,\n",
              "       1.929, 2.453, 2.538, 2.585, 2.807, 4.174, 5.02 , 7.492, 3.336,\n",
              "       3.293, 3.937, 3.366, 2.401, 1.892, 2.318, 2.529, 3.048, 3.299,\n",
              "       4.693, 5.857, 3.909, 3.372, 4.151, 5.322, 1.936, 2.381, 3.416,\n",
              "       3.931, 4.021, 3.215, 3.513, 4.265, 5.574, 3.752, 2.608, 3.213,\n",
              "       2.192, 2.175, 2.954, 2.201, 2.86 , 3.841, 4.022, 4.261, 3.638,\n",
              "       4.304, 4.98 , 4.59 , 4.322, 4.035, 3.189, 3.173, 2.643, 5.155,\n",
              "       7.349, 3.753, 3.368, 2.986, 3.091, 2.055, 3.608, 2.979, 2.347,\n",
              "       2.332, 3.243, 3.244, 3.673, 5.966, 3.958, 3.159, 2.503, 2.232,\n",
              "       2.65 , 5.626, 3.235, 2.983, 3.167, 4.995, 4.567, 3.535, 4.666,\n",
              "       2.669, 1.857, 2.14 , 2.567, 2.789, 3.865, 3.422, 2.348, 2.642,\n",
              "       4.779, 3.775, 3.225, 1.652, 1.709, 3.166, 2.696, 2.013, 4.075,\n",
              "       3.932, 2.248, 4.468, 3.776, 7.88 , 4.139, 2.199, 3.044, 3.311,\n",
              "       1.966, 3.329, 3.226, 2.879, 3.354, 3.188, 6.415, 4.102, 4.635,\n",
              "       2.275, 2.736, 2.224, 1.754, 2.157, 2.827, 2.961, 2.08 , 3.653,\n",
              "       3.628, 2.868, 2.488, 3.159, 4.55 , 1.707, 3.256, 1.259, 2.236,\n",
              "       2.515, 2.828, 2.809, 4.928, 3.156, 2.442, 1.448, 1.928, 1.453,\n",
              "       2.375, 1.872, 1.705, 1.533, 3.737, 2.556, 4.766, 3.741, 2.802,\n",
              "       2.084, 1.555, 3.745, 2.341, 2.598, 2.855, 1.491, 3.774, 2.278,\n",
              "       5.656, 4.973, 4.418, 3.557, 1.501, 1.426, 2.559, 1.466, 2.313,\n",
              "       1.611, 3.775, 2.297, 3.027, 3.04 , 2.157, 1.84 , 2.433, 1.729,\n",
              "       2.552, 2.046, 1.504, 2.558, 2.02 , 2.286, 3.76 , 2.527, 2.225,\n",
              "       3.105, 1.753, 1.727, 3.669, 1.604, 1.598, 2.395, 2.267, 2.291,\n",
              "       4.275, 4.129, 2.276, 3.516, 1.27 , 3.395, 2.658, 3.14 , 1.51 ,\n",
              "       1.603, 2.726, 2.87 , 4.287, 3.218, 3.237, 2.647, 3.088, 1.403,\n",
              "       1.435, 2.246, 1.515, 1.721, 2.952, 3.506, 4.624, 5.963, 2.206,\n",
              "       1.524, 1.844, 2.429, 1.409, 1.641, 1.334, 1.386, 2.582, 2.624,\n",
              "       2.933, 3.021, 2.083, 2.095, 2.537, 1.259, 1.085, 1.162, 1.676,\n",
              "       1.874, 4.817, 3.787, 4.557, 5.124, 2.779, 3.849, 2.535, 3.891,\n",
              "       3.806, 1.947, 2.115, 2.625, 4.483, 3.271, 3.435, 3.139, 2.394,\n",
              "       1.538, 1.846, 2.805, 1.058, 1.093, 1.459, 2.116, 4.56 , 2.404,\n",
              "       4.467, 3.762, 2.388, 1.404, 5.237, 2.433, 1.303, 3.437, 2.065,\n",
              "       2.152, 2.788, 2.934, 3.11 , 5.268, 2.307, 1.401, 2.117, 1.607,\n",
              "       1.078, 1.269, 2.692, 3.464, 2.276, 2.725, 3.544, 3.569, 4.151,\n",
              "       1.69 , 1.673, 3.975, 2.216, 2.658, 2.35 , 3.608, 2.675, 2.361,\n",
              "       2.802, 4.959, 3.017, 3.086, 1.863, 2.14 , 1.858, 1.478, 1.809,\n",
              "       1.544, 2.258, 3.256, 3.438, 3.179, 2.381, 3.058, 1.419, 2.981,\n",
              "       1.3  , 3.131, 2.104, 1.873, 2.596, 3.558, 4.948, 3.581, 2.443,\n",
              "       2.076, 1.838, 1.385, 1.696, 1.004, 3.69 , 1.282, 1.676, 4.427,\n",
              "       3.547, 4.862, 2.221, 2.154, 1.474, 1.517, 2.96 , 2.487, 1.728,\n",
              "       1.826, 2.473, 3.358, 5.293, 3.683, 2.597, 1.564, 2.906, 1.541,\n",
              "       1.343, 1.613, 1.439, 2.621, 2.2  , 3.133, 3.347, 2.842, 3.258,\n",
              "       1.272, 1.538, 1.8  , 1.803, 2.595, 1.068, 1.68 , 2.522, 3.343,\n",
              "       2.754, 2.408, 4.215, 1.45 , 2.088, 2.653, 2.215, 2.046, 1.143,\n",
              "       1.732, 2.261, 1.909, 2.436, 2.463, 2.27 , 3.079, 2.387, 1.295,\n",
              "       2.311, 3.35 , 2.933, 1.438, 3.837, 2.506, 3.176, 2.842, 3.126,\n",
              "       1.522, 1.364, 2.099, 2.425, 1.437, 1.563, 3.312, 2.844, 2.631,\n",
              "       2.993, 4.039, 3.057, 2.657, 1.336, 1.262, 2.916, 1.532, 1.261,\n",
              "       2.132, 1.682, 5.827, 4.039, 2.576, 1.595, 1.507, 2.228, 1.042,\n",
              "       1.922, 1.298, 1.189, 1.836, 1.586, 1.606, 1.94 , 2.598, 1.914,\n",
              "       2.314, 1.057, 1.226, 1.657, 1.269, 1.524, 1.297, 1.565, 2.899,\n",
              "       5.035, 2.44 , 2.249, 1.617, 1.256, 1.314, 1.059, 0.807, 1.248,\n",
              "       1.019, 1.793, 1.568, 2.516, 2.434, 1.692, 1.368, 1.101, 1.406,\n",
              "       1.362, 1.395, 1.072, 1.39 , 2.145, 2.524, 2.674, 2.624, 2.145,\n",
              "       1.904, 1.544, 1.91 , 2.864, 1.746, 2.325, 1.661, 3.635, 2.261,\n",
              "       3.869, 5.138, 1.805, 1.219, 1.063])"
            ]
          },
          "metadata": {},
          "execution_count": 14
        }
      ]
    },
    {
      "cell_type": "code",
      "source": [
        "sns.displot(temperature_dataset['LandAverageTemperature'],kde=False,bins=10)"
      ],
      "metadata": {
        "colab": {
          "base_uri": "https://localhost:8080/",
          "height": 523
        },
        "id": "oo4Oq96ZNNR_",
        "outputId": "1164b698-f04c-4585-9c3d-eaace06c007d"
      },
      "execution_count": null,
      "outputs": [
        {
          "output_type": "execute_result",
          "data": {
            "text/plain": [
              "<seaborn.axisgrid.FacetGrid at 0x7db1a436c8e0>"
            ]
          },
          "metadata": {},
          "execution_count": 15
        },
        {
          "output_type": "display_data",
          "data": {
            "text/plain": [
              "<Figure size 500x500 with 1 Axes>"
            ],
            "image/png": "[encoded data removed]"
          },
          "metadata": {}
        }
      ]
    },
    {
      "cell_type": "code",
      "source": [
        "sns.countplot(y='LandAverageTemperatureUncertainty',data=temperature_dataset)"
      ],
      "metadata": {
        "colab": {
          "base_uri": "https://localhost:8080/",
          "height": 471
        },
        "id": "CzTs5UUlNloM",
        "outputId": "535210c7-d4d6-49bc-8d2e-ee3826a4c467"
      },
      "execution_count": null,
      "outputs": [
        {
          "output_type": "execute_result",
          "data": {
            "text/plain": [
              "<Axes: xlabel='count', ylabel='LandAverageTemperatureUncertainty'>"
            ]
          },
          "metadata": {},
          "execution_count": 20
        },
        {
          "output_type": "display_data",
          "data": {
            "text/plain": [
              "<Figure size 640x480 with 1 Axes>"
            ],
            "image/png": "[encoded data removed]"
          },
          "metadata": {}
        }
      ]
    },
    {
      "cell_type": "code",
      "source": [
        "sns.barplot(x='LandAverageTemperature',y='LandAverageTemperatureUncertainty',data=temperature_dataset)"
      ],
      "metadata": {
        "colab": {
          "base_uri": "https://localhost:8080/",
          "height": 466
        },
        "id": "sep5c21DN5k3",
        "outputId": "ad802d57-cb1b-4d1a-ba74-451ea61b85d1"
      },
      "execution_count": null,
      "outputs": [
        {
          "output_type": "execute_result",
          "data": {
            "text/plain": [
              "<Axes: xlabel='LandAverageTemperature', ylabel='LandAverageTemperatureUncertainty'>"
            ]
          },
          "metadata": {},
          "execution_count": 21
        },
        {
          "output_type": "display_data",
          "data": {
            "text/plain": [
              "<Figure size 640x480 with 1 Axes>"
            ],
            "image/png": "[encoded data removed]"
          },
          "metadata": {}
        }
      ]
    },
    {
      "cell_type": "code",
      "source": [
        "data = temperature_dataset\n",
        "df = pd.DataFrame(data)\n",
        "newdf = df.drop(\"dt\", axis = 'columns')"
      ],
      "metadata": {
        "id": "gyBrzz0o_W53"
      },
      "execution_count": null,
      "outputs": []
    },
    {
      "cell_type": "code",
      "source": [
        "sns.heatmap(newdf.corr())"
      ],
      "metadata": {
        "colab": {
          "base_uri": "https://localhost:8080/",
          "height": 589
        },
        "id": "amBw_mbwOF7G",
        "outputId": "9abd4763-d71d-4b7b-cf63-9099b931fc70"
      },
      "execution_count": null,
      "outputs": [
        {
          "output_type": "execute_result",
          "data": {
            "text/plain": [
              "<Axes: >"
            ]
          },
          "metadata": {},
          "execution_count": 24
        },
        {
          "output_type": "display_data",
          "data": {
            "text/plain": [
              "<Figure size 640x480 with 2 Axes>"
            ],
            "image/png": "[encoded data removed]"
          },
          "metadata": {}
        }
      ]
    },
    {
      "cell_type": "code",
      "source": [
        "!pip install scikit-learn"
      ],
      "metadata": {
        "colab": {
          "base_uri": "https://localhost:8080/"
        },
        "id": "veHU-0jtOQ-g",
        "outputId": "10f563c2-02f3-49f3-dc0b-4c6d7d2c1e1d"
      },
      "execution_count": null,
      "outputs": [
        {
          "output_type": "stream",
          "name": "stdout",
          "text": [
            "Requirement already satisfied: scikit-learn in /usr/local/lib/python3.10/dist-packages (1.2.2)\n",
            "Requirement already satisfied: numpy>=1.17.3 in /usr/local/lib/python3.10/dist-packages (from scikit-learn) (1.25.2)\n",
            "Requirement already satisfied: scipy>=1.3.2 in /usr/local/lib/python3.10/dist-packages (from scikit-learn) (1.11.4)\n",
            "Requirement already satisfied: joblib>=1.1.1 in /usr/local/lib/python3.10/dist-packages (from scikit-learn) (1.4.2)\n",
            "Requirement already satisfied: threadpoolctl>=2.0.0 in /usr/local/lib/python3.10/dist-packages (from scikit-learn) (3.5.0)\n"
          ]
        }
      ]
    },
    {
      "cell_type": "code",
      "source": [
        "from sklearn.model_selection import train_test_split"
      ],
      "metadata": {
        "id": "iVQpG8LoTL5B"
      },
      "execution_count": null,
      "outputs": []
    },
    {
      "cell_type": "code",
      "source": [
        "X_train, X_test, Y_train, Y_test = train_test_split(X, Y, test_size = 1/3, random_state =0)"
      ],
      "metadata": {
        "id": "5sdr5JtN_3_S"
      },
      "execution_count": null,
      "outputs": []
    },
    {
      "cell_type": "code",
      "source": [
        "data = temperature_dataset\n",
        "df = pd.DataFrame(data)\n",
        "newdf = df.drop(\"reviewId\", axis = 'columns')\n",
        "newdf = df.drop(\"userName\", axis = 'columns')\n",
        "newdf = df.drop(\"content\", axis = 'columns')\n",
        "newdf = df.drop(\"reviewCreatedVersion\", axis = 'columns')\n",
        "newdf = df.drop(\"at\", axis = 'columns')\n",
        "newdf = df.drop(\"appVersion\", axis = 'columns')"
      ],
      "metadata": {
        "id": "youimu9m0E9f"
      },
      "execution_count": null,
      "outputs": []
    },
    {
      "cell_type": "code",
      "source": [
        "newdf = spotify_reviews.drop(columns=[\"reviewId\", \"userName\", \"content\", \"reviewCreatedVersion\", \"at\", \"appVersion\"])"
      ],
      "metadata": {
        "id": "hUxBA6fx7_iD"
      },
      "execution_count": null,
      "outputs": []
    },
    {
      "cell_type": "code",
      "source": [
        "X= newdf[['LandAverageTemperature']].values\n",
        "Y= newdf[['LandAverageTemperatureUncertainty']].values"
      ],
      "metadata": {
        "id": "k5bLX3C88-1m"
      },
      "execution_count": null,
      "outputs": []
    },
    {
      "cell_type": "code",
      "source": [
        "from sklearn.linear_model import LinearRegression"
      ],
      "metadata": {
        "id": "g9ZmX9sa-O4I"
      },
      "execution_count": null,
      "outputs": []
    },
    {
      "cell_type": "code",
      "source": [
        "X_train = X_train.reshape(-1, 1)\n",
        "Y_train = Y_train.reshape(-1, 1)"
      ],
      "metadata": {
        "id": "YYtqO_zYI4PV"
      },
      "execution_count": null,
      "outputs": []
    },
    {
      "cell_type": "code",
      "source": [
        "lr = LinearRegression()\n",
        "lr.fit(X_train, Y_train)"
      ],
      "metadata": {
        "colab": {
          "base_uri": "https://localhost:8080/",
          "height": 74
        },
        "id": "3PVE7x-f_7J8",
        "outputId": "20663ef5-1c33-42f4-93b9-8dbf41866d0b"
      },
      "execution_count": null,
      "outputs": [
        {
          "output_type": "execute_result",
          "data": {
            "text/plain": [
              "LinearRegression()"
            ],
            "text/html": [
              "<style>#sk-container-id-1 {color: black;background-color: white;}#sk-container-id-1 pre{padding: 0;}#sk-container-id-1 div.sk-toggleable {background-color: white;}#sk-container-id-1 label.sk-toggleable__label {cursor: pointer;display: block;width: 100%;margin-bottom: 0;padding: 0.3em;box-sizing: border-box;text-align: center;}#sk-container-id-1 label.sk-toggleable__label-arrow:before {content: \"▸\";float: left;margin-right: 0.25em;color: #696969;}#sk-container-id-1 label.sk-toggleable__label-arrow:hover:before {color: black;}#sk-container-id-1 div.sk-estimator:hover label.sk-toggleable__label-arrow:before {color: black;}#sk-container-id-1 div.sk-toggleable__content {max-height: 0;max-width: 0;overflow: hidden;text-align: left;background-color: #f0f8ff;}#sk-container-id-1 div.sk-toggleable__content pre {margin: 0.2em;color: black;border-radius: 0.25em;background-color: #f0f8ff;}#sk-container-id-1 input.sk-toggleable__control:checked~div.sk-toggleable__content {max-height: 200px;max-width: 100%;overflow: auto;}#sk-container-id-1 input.sk-toggleable__control:checked~label.sk-toggleable__label-arrow:before {content: \"▾\";}#sk-container-id-1 div.sk-estimator input.sk-toggleable__control:checked~label.sk-toggleable__label {background-color: #d4ebff;}#sk-container-id-1 div.sk-label input.sk-toggleable__control:checked~label.sk-toggleable__label {background-color: #d4ebff;}#sk-container-id-1 input.sk-hidden--visually {border: 0;clip: rect(1px 1px 1px 1px);clip: rect(1px, 1px, 1px, 1px);height: 1px;margin: -1px;overflow: hidden;padding: 0;position: absolute;width: 1px;}#sk-container-id-1 div.sk-estimator {font-family: monospace;background-color: #f0f8ff;border: 1px dotted black;border-radius: 0.25em;box-sizing: border-box;margin-bottom: 0.5em;}#sk-container-id-1 div.sk-estimator:hover {background-color: #d4ebff;}#sk-container-id-1 div.sk-parallel-item::after {content: \"\";width: 100%;border-bottom: 1px solid gray;flex-grow: 1;}#sk-container-id-1 div.sk-label:hover label.sk-toggleable__label {background-color: #d4ebff;}#sk-container-id-1 div.sk-serial::before {content: \"\";position: absolute;border-left: 1px solid gray;box-sizing: border-box;top: 0;bottom: 0;left: 50%;z-index: 0;}#sk-container-id-1 div.sk-serial {display: flex;flex-direction: column;align-items: center;background-color: white;padding-right: 0.2em;padding-left: 0.2em;position: relative;}#sk-container-id-1 div.sk-item {position: relative;z-index: 1;}#sk-container-id-1 div.sk-parallel {display: flex;align-items: stretch;justify-content: center;background-color: white;position: relative;}#sk-container-id-1 div.sk-item::before, #sk-container-id-1 div.sk-parallel-item::before {content: \"\";position: absolute;border-left: 1px solid gray;box-sizing: border-box;top: 0;bottom: 0;left: 50%;z-index: -1;}#sk-container-id-1 div.sk-parallel-item {display: flex;flex-direction: column;z-index: 1;position: relative;background-color: white;}#sk-container-id-1 div.sk-parallel-item:first-child::after {align-self: flex-end;width: 50%;}#sk-container-id-1 div.sk-parallel-item:last-child::after {align-self: flex-start;width: 50%;}#sk-container-id-1 div.sk-parallel-item:only-child::after {width: 0;}#sk-container-id-1 div.sk-dashed-wrapped {border: 1px dashed gray;margin: 0 0.4em 0.5em 0.4em;box-sizing: border-box;padding-bottom: 0.4em;background-color: white;}#sk-container-id-1 div.sk-label label {font-family: monospace;font-weight: bold;display: inline-block;line-height: 1.2em;}#sk-container-id-1 div.sk-label-container {text-align: center;}#sk-container-id-1 div.sk-container {/* jupyter's `normalize.less` sets `[hidden] { display: none; }` but bootstrap.min.css set `[hidden] { display: none !important; }` so we also need the `!important` here to be able to override the default hidden behavior on the sphinx rendered scikit-learn.org. See: https://github.com/scikit-learn/scikit-learn/issues/21755 */display: inline-block !important;position: relative;}#sk-container-id-1 div.sk-text-repr-fallback {display: none;}</style><div id=\"sk-container-id-1\" class=\"sk-top-container\"><div class=\"sk-text-repr-fallback\"><pre>LinearRegression()</pre><b>In a Jupyter environment, please rerun this cell to show the HTML representation or trust the notebook. <br />On GitHub, the HTML representation is unable to render, please try loading this page with nbviewer.org.</b></div><div class=\"sk-container\" hidden><div class=\"sk-item\"><div class=\"sk-estimator sk-toggleable\"><input class=\"sk-toggleable__control sk-hidden--visually\" id=\"sk-estimator-id-1\" type=\"checkbox\" checked><label for=\"sk-estimator-id-1\" class=\"sk-toggleable__label sk-toggleable__label-arrow\">LinearRegression</label><div class=\"sk-toggleable__content\"><pre>LinearRegression()</pre></div></div></div></div></div>"
            ]
          },
          "metadata": {},
          "execution_count": 32
        }
      ]
    },
    {
      "cell_type": "code",
      "source": [
        "X_test = X_test.reshape(-1, 1)\n",
        "\n",
        "pred = lr.predict(X_test)\n",
        "pred"
      ],
      "metadata": {
        "colab": {
          "base_uri": "https://localhost:8080/"
        },
        "id": "fpdufLDJJ6mW",
        "outputId": "1a5741c9-8378-4904-d76f-655db85dbf80"
      },
      "execution_count": null,
      "outputs": [
        {
          "output_type": "execute_result",
          "data": {
            "text/plain": [
              "array([[2.81483291],\n",
              "       [3.06952569],\n",
              "       [2.48476409],\n",
              "       [2.97470829],\n",
              "       [3.1022176 ],\n",
              "       [3.45151057],\n",
              "       [3.06420375],\n",
              "       [2.06541703],\n",
              "       [3.70859279],\n",
              "       [2.10701504],\n",
              "       [2.78224961],\n",
              "       [2.14274806],\n",
              "       [2.92963473],\n",
              "       [2.98491773],\n",
              "       [3.69230114],\n",
              "       [3.00077493],\n",
              "       [2.74488742],\n",
              "       [2.42882942],\n",
              "       [2.197488  ],\n",
              "       [2.97535996],\n",
              "       [3.31943959],\n",
              "       [2.69123359],\n",
              "       [2.61585756],\n",
              "       [2.8375326 ],\n",
              "       [2.11211976],\n",
              "       [2.78681127],\n",
              "       [2.02794624],\n",
              "       [2.33879091],\n",
              "       [2.89466199],\n",
              "       [3.29044046],\n",
              "       [2.12276364],\n",
              "       [2.10277921],\n",
              "       [3.5387252 ],\n",
              "       [2.44685885],\n",
              "       [3.38091342],\n",
              "       [2.71089218],\n",
              "       [2.16957498],\n",
              "       [2.49758019],\n",
              "       [3.34387707],\n",
              "       [2.09126645],\n",
              "       [2.12374114],\n",
              "       [2.16305832],\n",
              "       [2.3644231 ],\n",
              "       [3.31683293],\n",
              "       [3.17911419],\n",
              "       [2.82580262],\n",
              "       [2.36029589],\n",
              "       [2.99577883],\n",
              "       [2.15024222],\n",
              "       [2.82732317],\n",
              "       [3.77788661],\n",
              "       [3.36907482],\n",
              "       [2.41666499],\n",
              "       [2.53515959],\n",
              "       [3.02130241],\n",
              "       [2.64909253],\n",
              "       [3.34930762],\n",
              "       [2.85979786],\n",
              "       [2.09061478],\n",
              "       [2.87055035],\n",
              "       [2.97264468],\n",
              "       [2.49595102],\n",
              "       [3.52851576],\n",
              "       [3.042916  ],\n",
              "       [3.02195408],\n",
              "       [3.38743008],\n",
              "       [2.0858359 ],\n",
              "       [2.94842443],\n",
              "       [2.38440753],\n",
              "       [3.07788874],\n",
              "       [2.28850402],\n",
              "       [3.21354387],\n",
              "       [3.37624315],\n",
              "       [3.1071051 ],\n",
              "       [2.51539239],\n",
              "       [3.41382255],\n",
              "       [2.68949582],\n",
              "       [3.3254132 ],\n",
              "       [2.3189151 ],\n",
              "       [2.38549364],\n",
              "       [2.86696618],\n",
              "       [2.58729287],\n",
              "       [2.39287918],\n",
              "       [3.06843958],\n",
              "       [2.13101807],\n",
              "       [3.37602592],\n",
              "       [2.99241188],\n",
              "       [3.01391686],\n",
              "       [2.69416609],\n",
              "       [2.726858  ],\n",
              "       [3.65222369],\n",
              "       [2.61042701],\n",
              "       [2.53494237],\n",
              "       [1.97787657],\n",
              "       [2.35443089],\n",
              "       [2.82341317],\n",
              "       [1.76358707],\n",
              "       [2.15545555],\n",
              "       [2.9184478 ],\n",
              "       [3.17661613],\n",
              "       [2.26102544],\n",
              "       [2.60412757],\n",
              "       [2.5333132 ],\n",
              "       [2.75422797],\n",
              "       [2.72403411],\n",
              "       [3.34409429],\n",
              "       [3.23928468],\n",
              "       [2.248861  ],\n",
              "       [2.38657975],\n",
              "       [2.42850359],\n",
              "       [2.28502847],\n",
              "       [2.29893067],\n",
              "       [3.02282296],\n",
              "       [2.03837289],\n",
              "       [2.55166846],\n",
              "       [2.60706007],\n",
              "       [3.34051013],\n",
              "       [2.04065372],\n",
              "       [2.55937984],\n",
              "       [2.26591293],\n",
              "       [2.11440059],\n",
              "       [3.16358281],\n",
              "       [3.25492466],\n",
              "       [3.1012401 ],\n",
              "       [3.11220981],\n",
              "       [2.50344518],\n",
              "       [2.00937376],\n",
              "       [2.05249232],\n",
              "       [2.55232013],\n",
              "       [3.31346599],\n",
              "       [3.07484763],\n",
              "       [3.08853262],\n",
              "       [2.23843435],\n",
              "       [2.20628549],\n",
              "       [3.0172838 ],\n",
              "       [2.19314356],\n",
              "       [3.32324098],\n",
              "       [3.04345905],\n",
              "       [2.12232919],\n",
              "       [2.87087618],\n",
              "       [3.33279875],\n",
              "       [3.22016914],\n",
              "       [3.26958715],\n",
              "       [3.12426563],\n",
              "       [2.19466412],\n",
              "       [3.54480741],\n",
              "       [2.5401557 ],\n",
              "       [1.91108081],\n",
              "       [3.14218645],\n",
              "       [3.03335823],\n",
              "       [2.26406654],\n",
              "       [2.50746379],\n",
              "       [3.43337253],\n",
              "       [3.00707437],\n",
              "       [3.28327213],\n",
              "       [2.15013361],\n",
              "       [2.19542439],\n",
              "       [2.05976926],\n",
              "       [1.89978526],\n",
              "       [3.56175073],\n",
              "       [3.48300775],\n",
              "       [2.12059142],\n",
              "       [3.53492381],\n",
              "       [1.99905571],\n",
              "       [3.4863747 ],\n",
              "       [2.26200293],\n",
              "       [3.00902937]])"
            ]
          },
          "metadata": {},
          "execution_count": 34
        }
      ]
    },
    {
      "cell_type": "code",
      "source": [
        "plt.scatter(X_train, Y_train, color =\"pink\")\n",
        "plt.plot(X_train, lr.predict(X_train), color='red')\n",
        "plt.title('temperature_dataset (train set)')\n",
        "plt.xlabel('LandAverageTemperature')\n",
        "plt.ylabel('LandAverageTemperatureUncertainty')\n",
        "plt.show()"
      ],
      "metadata": {
        "colab": {
          "base_uri": "https://localhost:8080/",
          "height": 472
        },
        "id": "aAWwDOauJq36",
        "outputId": "e1e3c562-864a-42db-ef8e-9615f62cd058"
      },
      "execution_count": null,
      "outputs": [
        {
          "output_type": "display_data",
          "data": {
            "text/plain": [
              "<Figure size 640x480 with 1 Axes>"
            ],
            "image/png": "[encoded data removed]"
          },
          "metadata": {}
        }
      ]
    },
    {
      "cell_type": "code",
      "source": [
        "plt.scatter(X_test, Y_test, color =\"blue\")\n",
        "plt.plot(X_train, lr.predict(X_train), color='red')\n",
        "plt.title('temperature_dataset (test set)')\n",
        "plt.xlabel('LandAverageTemperature')\n",
        "plt.ylabel('LandAverageTemperatureUncertainty')\n",
        "plt.show()"
      ],
      "metadata": {
        "colab": {
          "base_uri": "https://localhost:8080/",
          "height": 472
        },
        "id": "eBa_nvUqKNIc",
        "outputId": "f3bdaae7-dcad-4514-b654-8be9097f309f"
      },
      "execution_count": null,
      "outputs": [
        {
          "output_type": "display_data",
          "data": {
            "text/plain": [
              "<Figure size 640x480 with 1 Axes>"
            ],
            "image/png": "[encoded data removed]"
          },
          "metadata": {}
        }
      ]
    },
    {
      "cell_type": "code",
      "source": [
        "from sklearn import metrics\n",
        "print('MAE:', metrics.mean_absolute_error(Y_test,pred))\n",
        "print('MSE:', metrics.mean_squared_error(Y_test,pred))\n",
        "print('RMSE:',np.sqrt(metrics.mean_absolute_error(Y_test,pred)))"
      ],
      "metadata": {
        "colab": {
          "base_uri": "https://localhost:8080/"
        },
        "id": "XUp1DsOvKntA",
        "outputId": "3b7c8761-9753-4d38-9dae-cfd8eaf30367"
      },
      "execution_count": null,
      "outputs": [
        {
          "output_type": "stream",
          "name": "stdout",
          "text": [
            "MAE: 0.7385638212906896\n",
            "MSE: 0.8896654830610744\n",
            "RMSE: 0.8593973593691626\n"
          ]
        }
      ]
    },
    {
      "cell_type": "code",
      "source": [],
      "metadata": {
        "id": "1nMrAkmpVyq9"
      },
      "execution_count": null,
      "outputs": []
    }
  ]
}